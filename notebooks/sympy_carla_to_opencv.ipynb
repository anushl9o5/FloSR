{
 "cells": [
  {
   "cell_type": "code",
   "execution_count": 21,
   "metadata": {},
   "outputs": [],
   "source": [
    "import sympy\n",
    "import numpy as np\n",
    "import carla\n",
    "from scipy.spatial.transform import Rotation as Rot\n",
    "import math"
   ]
  },
  {
   "cell_type": "code",
   "execution_count": 4,
   "metadata": {},
   "outputs": [
    {
     "data": {
      "text/latex": [
       "$\\displaystyle \\left[\\begin{matrix}0 & 1 & 0 & 0\\\\0 & 0 & -1 & 0\\\\1 & 0 & 0 & 0\\\\0 & 0 & 0 & 1\\end{matrix}\\right]$"
      ],
      "text/plain": [
       "Matrix([\n",
       "[0, 1,  0, 0],\n",
       "[0, 0, -1, 0],\n",
       "[1, 0,  0, 0],\n",
       "[0, 0,  0, 1]])"
      ]
     },
     "execution_count": 4,
     "metadata": {},
     "output_type": "execute_result"
    }
   ],
   "source": [
    "P_carla_to_opencv = sympy.Matrix([[0, 1, 0, 0],\n",
    "                                  [0, 0,-1, 0],\n",
    "                                  [1, 0, 0, 0],\n",
    "                                  [0, 0, 0, 1]])\n",
    "P_carla_to_opencv"
   ]
  },
  {
   "cell_type": "code",
   "execution_count": 9,
   "metadata": {},
   "outputs": [
    {
     "data": {
      "text/latex": [
       "$\\displaystyle \\left[\\begin{matrix}r^{c}_{11} & r^{c}_{12} & r^{c}_{13} & x^{c}\\\\r^{c}_{21} & r^{c}_{22} & r^{c}_{23} & y^{c}\\\\r^{c}_{31} & r^{c}_{32} & r^{c}_{33} & z^{c}\\\\0 & 0 & 0 & 1\\end{matrix}\\right]$"
      ],
      "text/plain": [
       "Matrix([\n",
       "[r^{c}_{11}, r^{c}_{12}, r^{c}_{13}, x^{c}],\n",
       "[r^{c}_{21}, r^{c}_{22}, r^{c}_{23}, y^{c}],\n",
       "[r^{c}_{31}, r^{c}_{32}, r^{c}_{33}, z^{c}],\n",
       "[         0,          0,          0,     1]])"
      ]
     },
     "execution_count": 9,
     "metadata": {},
     "output_type": "execute_result"
    }
   ],
   "source": [
    "r11_c,r12_c,r13_c = sympy.Symbol('r^{c}_{11}'),sympy.Symbol('r^{c}_{12}'),sympy.Symbol('r^{c}_{13}')\n",
    "r21_c,r22_c,r23_c = sympy.Symbol('r^{c}_{21}'),sympy.Symbol('r^{c}_{22}'),sympy.Symbol('r^{c}_{23}')\n",
    "r31_c,r32_c,r33_c = sympy.Symbol('r^{c}_{31}'),sympy.Symbol('r^{c}_{32}'),sympy.Symbol('r^{c}_{33}')\n",
    "x_c,y_c,z_c = sympy.Symbol('x^{c}'),sympy.Symbol('y^{c}'),sympy.Symbol('z^{c}')\n",
    "\n",
    "T_carla = sympy.Matrix([[r11_c,r12_c,r13_c,x_c],\n",
    "                        [r21_c,r22_c,r23_c,y_c],\n",
    "                        [r31_c,r32_c,r33_c,z_c],\n",
    "                        [0,    0,    0,    1]])\n",
    "T_carla"
   ]
  },
  {
   "cell_type": "code",
   "execution_count": 11,
   "metadata": {},
   "outputs": [
    {
     "data": {
      "text/latex": [
       "$\\displaystyle \\left[\\begin{matrix}r^{c}_{22} & - r^{c}_{23} & r^{c}_{21} & y^{c}\\\\- r^{c}_{32} & r^{c}_{33} & - r^{c}_{31} & - z^{c}\\\\r^{c}_{12} & - r^{c}_{13} & r^{c}_{11} & x^{c}\\\\0 & 0 & 0 & 1\\end{matrix}\\right]$"
      ],
      "text/plain": [
       "Matrix([\n",
       "[ r^{c}_{22}, -r^{c}_{23},  r^{c}_{21},  y^{c}],\n",
       "[-r^{c}_{32},  r^{c}_{33}, -r^{c}_{31}, -z^{c}],\n",
       "[ r^{c}_{12}, -r^{c}_{13},  r^{c}_{11},  x^{c}],\n",
       "[          0,           0,           0,      1]])"
      ]
     },
     "execution_count": 11,
     "metadata": {},
     "output_type": "execute_result"
    }
   ],
   "source": [
    "P_carla_to_opencv @ T_carla @ P_carla_to_opencv.inv()"
   ]
  },
  {
   "cell_type": "markdown",
   "metadata": {},
   "source": [
    "---"
   ]
  },
  {
   "cell_type": "code",
   "execution_count": 22,
   "metadata": {},
   "outputs": [],
   "source": [
    "def degree_to_radian(theta):\n",
    "    return math.pi * theta / 180.0"
   ]
  },
  {
   "cell_type": "code",
   "execution_count": 60,
   "metadata": {},
   "outputs": [
    {
     "name": "stdout",
     "output_type": "stream",
     "text": [
      "[[ 1.          0.         -0.          1.        ]\n",
      " [ 0.          0.99984771  0.01745241  2.        ]\n",
      " [ 0.         -0.01745241  0.99984771  3.        ]\n",
      " [ 0.          0.          0.          1.        ]]\n"
     ]
    }
   ],
   "source": [
    "ryaw = 0.0\n",
    "rpitch = 0.0\n",
    "rroll = 1.0\n",
    "tx = 1.0\n",
    "ty = 2.0\n",
    "tz = 3.0\n",
    "r = carla.Transform(carla.Location(x = tx, y = ty, z = tz),\n",
    "                    carla.Rotation(pitch = rpitch, yaw = ryaw, roll = rroll))\n",
    "Tc = np.array(r.get_matrix())\n",
    "print(Tc)"
   ]
  },
  {
   "cell_type": "code",
   "execution_count": 61,
   "metadata": {},
   "outputs": [
    {
     "data": {
      "text/plain": [
       "array([[ 0.99984771, -0.01745241,  0.        ,  2.        ],\n",
       "       [ 0.01745241,  0.99984771,  0.        , -3.        ],\n",
       "       [ 0.        ,  0.        ,  1.        ,  1.        ],\n",
       "       [ 0.        ,  0.        ,  0.        ,  1.        ]])"
      ]
     },
     "execution_count": 61,
     "metadata": {},
     "output_type": "execute_result"
    }
   ],
   "source": [
    "P = np.array([[0, 1, 0,  0],\n",
    "              [0, 0, -1, 0],\n",
    "              [1, 0, 0,  0],\n",
    "              [0, 0, 0,  1]])\n",
    "To = P @ Tc @ np.linalg.inv(P)\n",
    "To"
   ]
  },
  {
   "cell_type": "code",
   "execution_count": 62,
   "metadata": {},
   "outputs": [
    {
     "data": {
      "text/plain": [
       "array([-0.99999995, -0.        ,  0.        ])"
      ]
     },
     "execution_count": 62,
     "metadata": {},
     "output_type": "execute_result"
    }
   ],
   "source": [
    "Rot.from_matrix(Tc[0:3,0:3]).as_rotvec(degrees=True)"
   ]
  },
  {
   "cell_type": "code",
   "execution_count": 63,
   "metadata": {},
   "outputs": [
    {
     "data": {
      "text/plain": [
       "array([0.        , 0.        , 0.99999995])"
      ]
     },
     "execution_count": 63,
     "metadata": {},
     "output_type": "execute_result"
    }
   ],
   "source": [
    "Rot.from_matrix(To[0:3,0:3]).as_rotvec(degrees=True)"
   ]
  },
  {
   "cell_type": "code",
   "execution_count": null,
   "metadata": {},
   "outputs": [],
   "source": []
  }
 ],
 "metadata": {
  "interpreter": {
   "hash": "cc4ce4877ce7233c150199eef003a6329473df8e50563a5976537a83f335919c"
  },
  "kernelspec": {
   "display_name": "Python 3.8.8 ('base')",
   "language": "python",
   "name": "python3"
  },
  "language_info": {
   "codemirror_mode": {
    "name": "ipython",
    "version": 3
   },
   "file_extension": ".py",
   "mimetype": "text/x-python",
   "name": "python",
   "nbconvert_exporter": "python",
   "pygments_lexer": "ipython3",
   "version": "3.8.8"
  },
  "orig_nbformat": 4
 },
 "nbformat": 4,
 "nbformat_minor": 2
}
