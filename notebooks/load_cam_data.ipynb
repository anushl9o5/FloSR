{
 "cells": [
  {
   "cell_type": "code",
   "execution_count": 2,
   "metadata": {},
   "outputs": [],
   "source": [
    "import os\n",
    "import pickle\n",
    "import itertools\n",
    "from pytransform3d.transform_manager import TransformManager\n",
    "import numpy as np\n",
    "import json"
   ]
  },
  {
   "cell_type": "code",
   "execution_count": 3,
   "metadata": {},
   "outputs": [],
   "source": [
    "root = \"/nas/EOS/servers/storage03-srv2/dataset/axcar/stereo\"\n",
    "capture = 'CAR-359'"
   ]
  },
  {
   "cell_type": "code",
   "execution_count": 4,
   "metadata": {},
   "outputs": [],
   "source": [
    "data_dict = {}\n",
    "data_dict[capture] = {}"
   ]
  },
  {
   "cell_type": "code",
   "execution_count": 5,
   "metadata": {},
   "outputs": [],
   "source": [
    "def load_pickle(filepath):\n",
    "    with open(filepath, 'rb') as fh:\n",
    "        data = pickle.load(fh)\n",
    "    return data"
   ]
  },
  {
   "cell_type": "code",
   "execution_count": 6,
   "metadata": {},
   "outputs": [],
   "source": [
    "def decompose_affine_mat(T):\n",
    "    return T[0:3,0:3], T[0:3,3]"
   ]
  },
  {
   "cell_type": "code",
   "execution_count": 7,
   "metadata": {},
   "outputs": [
    {
     "data": {
      "text/plain": [
       "['camera_extrinsic.json',\n",
       " 'lidar_extrinsic.json',\n",
       " 'lidar_extrinsic.pickle',\n",
       " 'camera_intrinsic.pickle',\n",
       " 'camera_intrinsic.json',\n",
       " 'camera_extrinsic.pickle']"
      ]
     },
     "execution_count": 7,
     "metadata": {},
     "output_type": "execute_result"
    }
   ],
   "source": [
    "# scan a capture for type of cameras\n",
    "os.listdir(os.path.join(root,capture, 'calibration_matrix'))"
   ]
  },
  {
   "cell_type": "code",
   "execution_count": 8,
   "metadata": {},
   "outputs": [],
   "source": [
    "intr_data = load_pickle(os.path.join(root,capture, 'calibration_matrix', 'camera_intrinsic.pickle'))"
   ]
  },
  {
   "cell_type": "code",
   "execution_count": 9,
   "metadata": {},
   "outputs": [],
   "source": [
    "extr_data = load_pickle(os.path.join(root,capture, 'calibration_matrix', 'camera_extrinsic.pickle'))"
   ]
  },
  {
   "cell_type": "code",
   "execution_count": 10,
   "metadata": {},
   "outputs": [
    {
     "data": {
      "text/plain": [
       "{'ar0231_0_ar0231_1': {'rvec': array([[ 0.99890783, -0.02253468,  0.04093098],\n",
       "         [ 0.02427365,  0.99880166, -0.04249741],\n",
       "         [-0.03992426,  0.04344454,  0.99825779]]),\n",
       "  'tvec': array([[-233.9825111 ],\n",
       "         [ -14.36727582],\n",
       "         [   3.485073  ]])},\n",
       " 'ar0231_0_ar0231_2': {'rvec': array([[ 0.99782838, -0.00811658,  0.06536546],\n",
       "         [ 0.00948823,  0.99974068, -0.02070128],\n",
       "         [-0.06518048,  0.02127652,  0.99764664]]),\n",
       "  'tvec': array([[ 400.16291121],\n",
       "         [-227.21004322],\n",
       "         [-485.79114177]])},\n",
       " 'ar0231_2_ar0231_3': {'rvec': array([[ 0.99933144, -0.01851419, -0.03152603],\n",
       "         [ 0.01869952,  0.9998095 ,  0.00559408],\n",
       "         [ 0.03141645, -0.00617986,  0.99948728]]),\n",
       "  'tvec': array([[-1063.09456259],\n",
       "         [  -34.74242633],\n",
       "         [  -24.5380133 ]])},\n",
       " 'ar0231_0_ar0231_3': {'rvec': array([[ 0.99903185, -0.02798316,  0.03394553],\n",
       "         [ 0.02845867,  0.99950236, -0.01360667],\n",
       "         [-0.03354788,  0.01455954,  0.99933106]]),\n",
       "  'tvec': array([[-643.33780398],\n",
       "         [-258.30715109],\n",
       "         [-494.63756983]])},\n",
       " 'ar0231_0_fsc231_0': {'rvec': array([[ 0.99484055, -0.0382307 ,  0.09397179],\n",
       "         [ 0.04056404,  0.99891113, -0.02304607],\n",
       "         [-0.0929884 ,  0.02673904,  0.99530808]]),\n",
       "  'tvec': array([[  58.970119  ],\n",
       "         [-296.4107664 ],\n",
       "         [-864.89994031]])},\n",
       " 'ar0231_0_fsc231_1': {'rvec': array([[ 9.97411251e-01, -2.17320809e-02,  6.85457071e-02],\n",
       "         [ 2.16513739e-02,  9.99763737e-01,  1.92021495e-03],\n",
       "         [-6.85712426e-02, -4.31135257e-04,  9.97646129e-01]]),\n",
       "  'tvec': array([[-712.76008958],\n",
       "         [-298.20746831],\n",
       "         [-687.91371306]])},\n",
       " 'fsc231_0_fsc231_1': {'rvec': array([[ 0.99984009, -0.00250018, -0.01770736],\n",
       "         [ 0.0028989 ,  0.99974202,  0.02252759],\n",
       "         [ 0.01764647, -0.02257532,  0.99958939]]),\n",
       "  'tvec': array([[-845.37772825],\n",
       "         [   6.64999774],\n",
       "         [ -38.33025954]])}}"
      ]
     },
     "execution_count": 10,
     "metadata": {},
     "output_type": "execute_result"
    }
   ],
   "source": [
    "extr_data"
   ]
  },
  {
   "cell_type": "code",
   "execution_count": 11,
   "metadata": {},
   "outputs": [],
   "source": [
    "cams = list(extr_data.keys()) "
   ]
  },
  {
   "cell_type": "code",
   "execution_count": 31,
   "metadata": {},
   "outputs": [
    {
     "data": {
      "text/plain": [
       "['ar0231_0_ar0231_1',\n",
       " 'ar0231_0_ar0231_2',\n",
       " 'ar0231_2_ar0231_3',\n",
       " 'ar0231_0_ar0231_3',\n",
       " 'ar0231_0_fsc231_0',\n",
       " 'ar0231_0_fsc231_1',\n",
       " 'fsc231_0_fsc231_1']"
      ]
     },
     "execution_count": 31,
     "metadata": {},
     "output_type": "execute_result"
    }
   ],
   "source": [
    "cams"
   ]
  },
  {
   "cell_type": "code",
   "execution_count": 12,
   "metadata": {},
   "outputs": [],
   "source": [
    "tm = TransformManager()\n",
    "for cam_pair in list(extr_data.keys()): \n",
    "    cam1, cam2 = tuple([f'{cam}_{num}' for cam,num in  zip(cam_pair.split('_')[::2],cam_pair.split('_')[1::2])])\n",
    "    # print(cam1, cam2)\n",
    "\n",
    "    # extract transformation    \n",
    "    T = np.eye(4)\n",
    "    R, t = extr_data[cam_pair]['rvec'].reshape(3,3), extr_data[cam_pair]['tvec'].reshape(3,)\n",
    "    T[0:3,0:3] = R\n",
    "\n",
    "    if np.linalg.norm(t) > 10:\n",
    "        T[0:3,3] = t/1000\n",
    "    else:\n",
    "        T[0:3,3] = t\n",
    "    \n",
    "    # Add transformation to pytransform3d\n",
    "    tm.add_transform(cam1, cam2, T)"
   ]
  },
  {
   "cell_type": "code",
   "execution_count": 13,
   "metadata": {},
   "outputs": [
    {
     "name": "stdout",
     "output_type": "stream",
     "text": [
      "[[ 0.99933144 -0.01851419 -0.03152603 -1.06309456]\n",
      " [ 0.01869952  0.9998095   0.00559408 -0.03474243]\n",
      " [ 0.03141645 -0.00617986  0.99948728 -0.02453801]\n",
      " [ 0.          0.          0.          1.        ]]\n"
     ]
    }
   ],
   "source": [
    "print(tm.get_transform('ar0231_2','ar0231_3'))"
   ]
  },
  {
   "cell_type": "code",
   "execution_count": 14,
   "metadata": {},
   "outputs": [
    {
     "name": "stdout",
     "output_type": "stream",
     "text": [
      "[[ 0.99984009 -0.00250018 -0.01770736 -0.84537773]\n",
      " [ 0.0028989   0.99974202  0.02252759  0.00665   ]\n",
      " [ 0.01764647 -0.02257532  0.99958939 -0.03833026]\n",
      " [ 0.          0.          0.          1.        ]]\n"
     ]
    }
   ],
   "source": [
    "T = np.eye(4)\n",
    "R, t = extr_data[cam_pair]['rvec'].reshape(3,3), extr_data[cam_pair]['tvec'].reshape(3,)\n",
    "T[0:3,0:3] = R\n",
    "\n",
    "if np.linalg.norm(t) > 10:\n",
    "    T[0:3,3] = t/1000\n",
    "else:\n",
    "    T[0:3,3] = t\n",
    "    \n",
    "print(T)"
   ]
  },
  {
   "cell_type": "code",
   "execution_count": 15,
   "metadata": {},
   "outputs": [
    {
     "data": {
      "text/plain": [
       "True"
      ]
     },
     "execution_count": 15,
     "metadata": {},
     "output_type": "execute_result"
    }
   ],
   "source": [
    "np.linalg.norm(t) > 10"
   ]
  },
  {
   "cell_type": "code",
   "execution_count": 16,
   "metadata": {},
   "outputs": [],
   "source": [
    "cam_types = set(map(lambda x : x.split('_')[0], intr_data.keys()))\n",
    "\n",
    "for cam_type in cam_types:\n",
    "    data_dict[capture][cam_type] = { 'intrinsics': {}, 'extrinsics': {} } "
   ]
  },
  {
   "cell_type": "code",
   "execution_count": 32,
   "metadata": {},
   "outputs": [
    {
     "data": {
      "text/plain": [
       "{'ar0231', 'fsc231'}"
      ]
     },
     "execution_count": 32,
     "metadata": {},
     "output_type": "execute_result"
    }
   ],
   "source": [
    "cam_types"
   ]
  },
  {
   "cell_type": "code",
   "execution_count": 17,
   "metadata": {},
   "outputs": [
    {
     "data": {
      "text/plain": [
       "{'ar0231_0': {'cam_mat': array([[952.2730727 ,   0.        , 973.47716632],\n",
       "         [  0.        , 952.18703765, 621.44828005],\n",
       "         [  0.        ,   0.        ,   1.        ]]),\n",
       "  'dist': array([[ 2.1962741e-01, -1.0277259e-02,  0.0000000e+00,  0.0000000e+00,\n",
       "           3.5599177e-04,  5.7432318e-01,  0.0000000e+00,  0.0000000e+00]],\n",
       "        dtype=float32)},\n",
       " 'ar0231_1': {'cam_mat': array([[955.92076911,   0.        , 977.18382566],\n",
       "         [  0.        , 955.34951347, 604.93003406],\n",
       "         [  0.        ,   0.        ,   1.        ]]),\n",
       "  'dist': array([[ 2.4873178e-01, -1.4032701e-02,  0.0000000e+00,  0.0000000e+00,\n",
       "           5.6917069e-04,  6.0906255e-01,  0.0000000e+00,  0.0000000e+00]],\n",
       "        dtype=float32)},\n",
       " 'ar0231_2': {'cam_mat': array([[1.95306529e+03, 0.00000000e+00, 9.74729343e+02],\n",
       "         [0.00000000e+00, 1.95157780e+03, 6.05948999e+02],\n",
       "         [0.00000000e+00, 0.00000000e+00, 1.00000000e+00]]),\n",
       "  'dist': array([[-0.548534  ,  0.24690242,  0.        ,  0.        , -0.00793832,\n",
       "           0.00277536,  0.        ,  0.        ]], dtype=float32)},\n",
       " 'ar0231_3': {'cam_mat': array([[1.94795914e+03, 0.00000000e+00, 1.00748309e+03],\n",
       "         [0.00000000e+00, 1.94697293e+03, 5.93709842e+02],\n",
       "         [0.00000000e+00, 0.00000000e+00, 1.00000000e+00]]),\n",
       "  'dist': array([[-0.53946394,  0.23881012,  0.        ,  0.        , -0.00156068,\n",
       "           0.00347155,  0.        ,  0.        ]], dtype=float32)},\n",
       " 'fsc231_0': {'cam_mat': array([[7.20382032e+03, 0.00000000e+00, 1.83550125e+03],\n",
       "         [0.00000000e+00, 7.20987350e+03, 1.06925881e+03],\n",
       "         [0.00000000e+00, 0.00000000e+00, 1.00000000e+00]]),\n",
       "  'dist': array([[-0.20436933,  0.35243867,  0.        ,  0.        ,  0.        ,\n",
       "           0.        ,  0.        ,  0.        ,  0.        ,  0.        ,\n",
       "           0.        ,  0.        ,  0.        ,  0.        ]])},\n",
       " 'fsc231_1': {'cam_mat': array([[7.13636195e+03, 0.00000000e+00, 1.81608836e+03],\n",
       "         [0.00000000e+00, 7.13416854e+03, 8.37105749e+02],\n",
       "         [0.00000000e+00, 0.00000000e+00, 1.00000000e+00]]),\n",
       "  'dist': array([[-0.20793086,  0.61078361,  0.        ,  0.        ,  0.        ,\n",
       "           0.        ,  0.        ,  0.        ,  0.        ,  0.        ,\n",
       "           0.        ,  0.        ,  0.        ,  0.        ]])}}"
      ]
     },
     "execution_count": 17,
     "metadata": {},
     "output_type": "execute_result"
    }
   ],
   "source": [
    "intr_data"
   ]
  },
  {
   "cell_type": "code",
   "execution_count": 18,
   "metadata": {},
   "outputs": [
    {
     "data": {
      "text/plain": [
       "(1, 14)"
      ]
     },
     "execution_count": 18,
     "metadata": {},
     "output_type": "execute_result"
    }
   ],
   "source": [
    "intr_data['fsc231_1']['dist'].shape"
   ]
  },
  {
   "cell_type": "code",
   "execution_count": 19,
   "metadata": {},
   "outputs": [],
   "source": [
    "cam_data = {cam_type : [tag.split('_')[1] for tag in intr_data.keys() if cam_type in tag] for cam_type in cam_types}"
   ]
  },
  {
   "cell_type": "code",
   "execution_count": 20,
   "metadata": {},
   "outputs": [
    {
     "data": {
      "text/plain": [
       "{'CAR-359': {'ar0231': {'intrinsics': {}, 'extrinsics': {}},\n",
       "  'fsc231': {'intrinsics': {}, 'extrinsics': {}}}}"
      ]
     },
     "execution_count": 20,
     "metadata": {},
     "output_type": "execute_result"
    }
   ],
   "source": [
    "data_dict"
   ]
  },
  {
   "cell_type": "code",
   "execution_count": 21,
   "metadata": {},
   "outputs": [],
   "source": [
    "for cam_type in cam_types:\n",
    "    cam_nums = cam_data[cam_type]\n",
    "    for cam_num in cam_nums:\n",
    "        # intrinsics data\n",
    "        data_dict[capture][cam_type]['intrinsics'][f'{cam_num}'] = {'K'    : list(intr_data[f'{cam_type}_{cam_num}']['cam_mat'].astype(float).reshape(-1)), \n",
    "                                                                    'dist' : list(intr_data[f'{cam_type}_{cam_num}']['dist'].astype(float).reshape(-1))}\n",
    "    # extriniscs data\n",
    "    cam_pairs  = [f'{a}_{b}' for a,b in itertools.combinations(cam_data[cam_type], r = 2)]\n",
    "    # print(cam_pairs)\n",
    "    for cam_pair in cam_pairs:\n",
    "        R, tvec = decompose_affine_mat(tm.get_transform(f\"{cam_type}_{cam_pair.split('_')[0]}\",\n",
    "                                                        f\"{cam_type}_{cam_pair.split('_')[1]}\"))\n",
    "        \n",
    "        data_dict[capture][cam_type]['extrinsics'][cam_pair] = {\n",
    "                                                                'rmat' : list(R.reshape(-1)), \n",
    "                                                                'tvec' : list(tvec.reshape(-1))\n",
    "                                                               }"
   ]
  },
  {
   "cell_type": "code",
   "execution_count": 22,
   "metadata": {},
   "outputs": [
    {
     "data": {
      "text/plain": [
       "'fsc231__0_1'"
      ]
     },
     "execution_count": 22,
     "metadata": {},
     "output_type": "execute_result"
    }
   ],
   "source": [
    "f'{cam_type}__{cam_pair}'"
   ]
  },
  {
   "cell_type": "code",
   "execution_count": 23,
   "metadata": {},
   "outputs": [
    {
     "data": {
      "text/plain": [
       "{'intrinsics': {'0': {'K': [7203.82031782057,\n",
       "    0.0,\n",
       "    1835.5012484945312,\n",
       "    0.0,\n",
       "    7209.87350148436,\n",
       "    1069.2588144105162,\n",
       "    0.0,\n",
       "    0.0,\n",
       "    1.0],\n",
       "   'dist': [-0.20436932665353066,\n",
       "    0.3524386662290267,\n",
       "    0.0,\n",
       "    0.0,\n",
       "    0.0,\n",
       "    0.0,\n",
       "    0.0,\n",
       "    0.0,\n",
       "    0.0,\n",
       "    0.0,\n",
       "    0.0,\n",
       "    0.0,\n",
       "    0.0,\n",
       "    0.0]},\n",
       "  '1': {'K': [7136.3619475835485,\n",
       "    0.0,\n",
       "    1816.0883556332105,\n",
       "    0.0,\n",
       "    7134.168540246251,\n",
       "    837.1057492474125,\n",
       "    0.0,\n",
       "    0.0,\n",
       "    1.0],\n",
       "   'dist': [-0.20793085661457059,\n",
       "    0.610783608258124,\n",
       "    0.0,\n",
       "    0.0,\n",
       "    0.0,\n",
       "    0.0,\n",
       "    0.0,\n",
       "    0.0,\n",
       "    0.0,\n",
       "    0.0,\n",
       "    0.0,\n",
       "    0.0,\n",
       "    0.0,\n",
       "    0.0]}},\n",
       " 'extrinsics': {'0_1': {'rmat': [0.9998400864039769,\n",
       "    -0.0025001788596346504,\n",
       "    -0.017707363591395155,\n",
       "    0.0028989016671859876,\n",
       "    0.9997420187440642,\n",
       "    0.022527590343112837,\n",
       "    0.017646472418362178,\n",
       "    -0.022575319780967898,\n",
       "    0.9995893941754159],\n",
       "   'tvec': [-0.845377728245108, 0.006649997740926828, -0.03833025954325985]}}}"
      ]
     },
     "execution_count": 23,
     "metadata": {},
     "output_type": "execute_result"
    }
   ],
   "source": [
    "data_dict[capture][cam_type]"
   ]
  },
  {
   "cell_type": "code",
   "execution_count": 24,
   "metadata": {},
   "outputs": [
    {
     "data": {
      "text/plain": [
       "{'CAR-359': {'ar0231': {'intrinsics': {'0': {'K': [952.2730726983133,\n",
       "      0.0,\n",
       "      973.4771663244936,\n",
       "      0.0,\n",
       "      952.1870376542149,\n",
       "      621.4482800496887,\n",
       "      0.0,\n",
       "      0.0,\n",
       "      1.0],\n",
       "     'dist': [0.21962741017341614,\n",
       "      -0.010277259163558483,\n",
       "      0.0,\n",
       "      0.0,\n",
       "      0.000355991767719388,\n",
       "      0.5743231773376465,\n",
       "      0.0,\n",
       "      0.0]},\n",
       "    '1': {'K': [955.9207691107338,\n",
       "      0.0,\n",
       "      977.1838256620462,\n",
       "      0.0,\n",
       "      955.3495134688142,\n",
       "      604.9300340582665,\n",
       "      0.0,\n",
       "      0.0,\n",
       "      1.0],\n",
       "     'dist': [0.24873177707195282,\n",
       "      -0.014032701030373573,\n",
       "      0.0,\n",
       "      0.0,\n",
       "      0.0005691706901416183,\n",
       "      0.6090625524520874,\n",
       "      0.0,\n",
       "      0.0]},\n",
       "    '2': {'K': [1953.065286975297,\n",
       "      0.0,\n",
       "      974.729343294804,\n",
       "      0.0,\n",
       "      1951.5777999488055,\n",
       "      605.9489989408094,\n",
       "      0.0,\n",
       "      0.0,\n",
       "      1.0],\n",
       "     'dist': [-0.5485339760780334,\n",
       "      0.24690242111682892,\n",
       "      0.0,\n",
       "      0.0,\n",
       "      -0.007938316091895103,\n",
       "      0.002775357337668538,\n",
       "      0.0,\n",
       "      0.0]},\n",
       "    '3': {'K': [1947.959139760431,\n",
       "      0.0,\n",
       "      1007.4830942179691,\n",
       "      0.0,\n",
       "      1946.9729343330428,\n",
       "      593.7098417949632,\n",
       "      0.0,\n",
       "      0.0,\n",
       "      1.0],\n",
       "     'dist': [-0.5394639372825623,\n",
       "      0.23881012201309204,\n",
       "      0.0,\n",
       "      0.0,\n",
       "      -0.0015606819652020931,\n",
       "      0.003471547272056341,\n",
       "      0.0,\n",
       "      0.0]}},\n",
       "   'extrinsics': {'0_1': {'rmat': [0.9989078250679927,\n",
       "      -0.02253468297936841,\n",
       "      0.040930979477062986,\n",
       "      0.024273650490153006,\n",
       "      0.9988016620230029,\n",
       "      -0.042497409708933426,\n",
       "      -0.039924264674684774,\n",
       "      0.043444539393419954,\n",
       "      0.9982577949042418],\n",
       "     'tvec': [-0.233982511095893,\n",
       "      -0.014367275819537213,\n",
       "      0.0034850730041960125]},\n",
       "    '0_2': {'rmat': [0.9978283811170878,\n",
       "      -0.008116582349655328,\n",
       "      0.06536545668939325,\n",
       "      0.009488230719869881,\n",
       "      0.9997406817121431,\n",
       "      -0.02070127550528656,\n",
       "      -0.06518048262369802,\n",
       "      0.021276522758677544,\n",
       "      0.997646637975712],\n",
       "     'tvec': [0.400162911212948, -0.22721004321838012, -0.4857911417659196]},\n",
       "    '0_3': {'rmat': [0.9990318531491857,\n",
       "      -0.027983158460242734,\n",
       "      0.033945533371750033,\n",
       "      0.02845867072401652,\n",
       "      0.9995023574596583,\n",
       "      -0.01360667090832256,\n",
       "      -0.03354788300214567,\n",
       "      0.014559542409510393,\n",
       "      0.9993310558923404],\n",
       "     'tvec': [-0.6433378039797811, -0.2583071510879528, -0.49463756982688223]},\n",
       "    '1_2': {'rmat': [0.9995969547491741,\n",
       "      0.01333621883786836,\n",
       "      0.025061391088402038,\n",
       "      -0.013898294894688199,\n",
       "      0.9996527190690081,\n",
       "      0.02238925315768059,\n",
       "      -0.024754099765445653,\n",
       "      -0.02272853987934359,\n",
       "      0.9994351644903012],\n",
       "     'tvec': [0.6341553811258711, -0.21617774300093964, -0.49539281990158807]},\n",
       "    '1_3': {'rmat': [0.9999607511373395,\n",
       "      -0.005142072386357853,\n",
       "      -0.007214934263115702,\n",
       "      0.005347185747069013,\n",
       "      0.999573659921551,\n",
       "      0.02870376274326711,\n",
       "      0.007064261421689269,\n",
       "      -0.02874121574688311,\n",
       "      0.9995619234084285],\n",
       "     'tvec': [-0.4094132094309625, -0.24279488737417565, -0.4968811354497148]},\n",
       "    '2_3': {'rmat': [0.9993314436784709,\n",
       "      -0.018514190687836222,\n",
       "      -0.03152602763872302,\n",
       "      0.01869952444766478,\n",
       "      0.9998094988946955,\n",
       "      0.005594077704947097,\n",
       "      0.03141645207426001,\n",
       "      -0.0061798594735024085,\n",
       "      0.9994872764952806],\n",
       "     'tvec': [-1.0630945625948698,\n",
       "      -0.03474242632651919,\n",
       "      -0.02453801330400856]}}},\n",
       "  'fsc231': {'intrinsics': {'0': {'K': [7203.82031782057,\n",
       "      0.0,\n",
       "      1835.5012484945312,\n",
       "      0.0,\n",
       "      7209.87350148436,\n",
       "      1069.2588144105162,\n",
       "      0.0,\n",
       "      0.0,\n",
       "      1.0],\n",
       "     'dist': [-0.20436932665353066,\n",
       "      0.3524386662290267,\n",
       "      0.0,\n",
       "      0.0,\n",
       "      0.0,\n",
       "      0.0,\n",
       "      0.0,\n",
       "      0.0,\n",
       "      0.0,\n",
       "      0.0,\n",
       "      0.0,\n",
       "      0.0,\n",
       "      0.0,\n",
       "      0.0]},\n",
       "    '1': {'K': [7136.3619475835485,\n",
       "      0.0,\n",
       "      1816.0883556332105,\n",
       "      0.0,\n",
       "      7134.168540246251,\n",
       "      837.1057492474125,\n",
       "      0.0,\n",
       "      0.0,\n",
       "      1.0],\n",
       "     'dist': [-0.20793085661457059,\n",
       "      0.610783608258124,\n",
       "      0.0,\n",
       "      0.0,\n",
       "      0.0,\n",
       "      0.0,\n",
       "      0.0,\n",
       "      0.0,\n",
       "      0.0,\n",
       "      0.0,\n",
       "      0.0,\n",
       "      0.0,\n",
       "      0.0,\n",
       "      0.0]}},\n",
       "   'extrinsics': {'0_1': {'rmat': [0.9998400864039769,\n",
       "      -0.0025001788596346504,\n",
       "      -0.017707363591395155,\n",
       "      0.0028989016671859876,\n",
       "      0.9997420187440642,\n",
       "      0.022527590343112837,\n",
       "      0.017646472418362178,\n",
       "      -0.022575319780967898,\n",
       "      0.9995893941754159],\n",
       "     'tvec': [-0.845377728245108,\n",
       "      0.006649997740926828,\n",
       "      -0.03833025954325985]}}}}}"
      ]
     },
     "execution_count": 24,
     "metadata": {},
     "output_type": "execute_result"
    }
   ],
   "source": [
    "data_dict"
   ]
  },
  {
   "cell_type": "code",
   "execution_count": 30,
   "metadata": {},
   "outputs": [],
   "source": [
    "with open(f'{capture}.json','w') as fh:\n",
    "    json.dump(data_dict, fh, sort_keys=True, indent=4)"
   ]
  },
  {
   "cell_type": "code",
   "execution_count": 26,
   "metadata": {},
   "outputs": [],
   "source": [
    "cam_data = {cam_type : [tag.split('_')[1] for tag in intr_data.keys() if cam_type in tag] for cam_type in cam_types}"
   ]
  },
  {
   "cell_type": "code",
   "execution_count": 27,
   "metadata": {},
   "outputs": [
    {
     "data": {
      "text/plain": [
       "dict_keys(['ar0231_0', 'ar0231_1', 'ar0231_2', 'ar0231_3', 'fsc231_0', 'fsc231_1'])"
      ]
     },
     "execution_count": 27,
     "metadata": {},
     "output_type": "execute_result"
    }
   ],
   "source": [
    "intr_data.keys()"
   ]
  },
  {
   "cell_type": "code",
   "execution_count": 28,
   "metadata": {},
   "outputs": [
    {
     "data": {
      "text/plain": [
       "{'ar0231', 'fsc231'}"
      ]
     },
     "execution_count": 28,
     "metadata": {},
     "output_type": "execute_result"
    }
   ],
   "source": [
    "cam_types"
   ]
  },
  {
   "cell_type": "code",
   "execution_count": 29,
   "metadata": {},
   "outputs": [
    {
     "data": {
      "text/plain": [
       "{'ar0231': ['0', '1', '2', '3'], 'fsc231': ['0', '1']}"
      ]
     },
     "execution_count": 29,
     "metadata": {},
     "output_type": "execute_result"
    }
   ],
   "source": [
    "cam_data"
   ]
  },
  {
   "cell_type": "code",
   "execution_count": null,
   "metadata": {},
   "outputs": [],
   "source": []
  },
  {
   "cell_type": "code",
   "execution_count": null,
   "metadata": {},
   "outputs": [],
   "source": [
    "def cartesian_prod(set_lists):\n",
    "    if len(set_lists) == 1:\n",
    "        return set_lists[0]\n",
    "    else:\n",
    "        left_set = set_lists[0]\n",
    "        right_set = set_lists[1:]\n",
    "        "
   ]
  }
 ],
 "metadata": {
  "kernelspec": {
   "display_name": "Python 3 (ipykernel)",
   "language": "python",
   "name": "python3"
  },
  "language_info": {
   "codemirror_mode": {
    "name": "ipython",
    "version": 3
   },
   "file_extension": ".py",
   "mimetype": "text/x-python",
   "name": "python",
   "nbconvert_exporter": "python",
   "pygments_lexer": "ipython3",
   "version": "3.8.8"
  },
  "toc": {
   "base_numbering": 1,
   "nav_menu": {},
   "number_sections": true,
   "sideBar": true,
   "skip_h1_title": false,
   "title_cell": "Table of Contents",
   "title_sidebar": "Contents",
   "toc_cell": false,
   "toc_position": {},
   "toc_section_display": true,
   "toc_window_display": false
  },
  "varInspector": {
   "cols": {
    "lenName": 16,
    "lenType": 16,
    "lenVar": 40
   },
   "kernels_config": {
    "python": {
     "delete_cmd_postfix": "",
     "delete_cmd_prefix": "del ",
     "library": "var_list.py",
     "varRefreshCmd": "print(var_dic_list())"
    },
    "r": {
     "delete_cmd_postfix": ") ",
     "delete_cmd_prefix": "rm(",
     "library": "var_list.r",
     "varRefreshCmd": "cat(var_dic_list()) "
    }
   },
   "types_to_exclude": [
    "module",
    "function",
    "builtin_function_or_method",
    "instance",
    "_Feature"
   ],
   "window_display": false
  }
 },
 "nbformat": 4,
 "nbformat_minor": 4
}
