{
 "cells": [
  {
   "cell_type": "code",
   "execution_count": 2,
   "metadata": {},
   "outputs": [],
   "source": [
    "import carla\n",
    "import numpy as np\n",
    "from scipy.spatial.transform import Rotation as Rot"
   ]
  },
  {
   "cell_type": "code",
   "execution_count": 18,
   "metadata": {},
   "outputs": [],
   "source": [
    "pitch = 10\n",
    "yaw = 2\n",
    "roll = 5\n",
    "carla_transform = carla.Transform(carla.Location(x = 0, y = 0, z = 0),\n",
    "                                  carla.Rotation(pitch,yaw,roll))\n"
   ]
  },
  {
   "cell_type": "code",
   "execution_count": 19,
   "metadata": {},
   "outputs": [
    {
     "data": {
      "text/plain": [
       "array([[ 0.98420781, -0.01964148, -0.17592371],\n",
       "       [ 0.03436929,  0.99611604,  0.08106547],\n",
       "       [ 0.17364818, -0.08583164,  0.98106027]])"
      ]
     },
     "execution_count": 19,
     "metadata": {},
     "output_type": "execute_result"
    }
   ],
   "source": [
    "carla_rmat = np.array(carla_transform.get_matrix())[0:3,0:3]\n",
    "carla_rmat"
   ]
  },
  {
   "cell_type": "code",
   "execution_count": 26,
   "metadata": {},
   "outputs": [
    {
     "data": {
      "text/plain": [
       "array([[ 0.99558784, -0.07979448,  0.04937295],\n",
       "       [ 0.08710265,  0.98158845, -0.16999191],\n",
       "       [-0.0348995 ,  0.1735424 ,  0.98420783]])"
      ]
     },
     "execution_count": 26,
     "metadata": {},
     "output_type": "execute_result"
    }
   ],
   "source": [
    "theta_x = pitch\n",
    "theta_y = yaw\n",
    "theta_z = roll\n",
    "opencv_rmat = Rot.from_euler('xyz',np.array([theta_x,theta_y,theta_z]),degrees=True).as_matrix()\n",
    "opencv_rmat\n"
   ]
  },
  {
   "cell_type": "code",
   "execution_count": 27,
   "metadata": {},
   "outputs": [],
   "source": [
    "P_carla_to_opencv = np.array([[0, 1, 0],\n",
    "                              [0, 0,-1],\n",
    "                              [1, 0, 0]])"
   ]
  },
  {
   "cell_type": "code",
   "execution_count": 28,
   "metadata": {},
   "outputs": [
    {
     "data": {
      "text/plain": [
       "array([[ 0.99611604, -0.08106547,  0.03436929],\n",
       "       [ 0.08583164,  0.98106027, -0.17364818],\n",
       "       [-0.01964148,  0.17592371,  0.98420781]])"
      ]
     },
     "execution_count": 28,
     "metadata": {},
     "output_type": "execute_result"
    }
   ],
   "source": [
    "P_carla_to_opencv @ carla_rmat @ np.linalg.inv(P_carla_to_opencv)"
   ]
  },
  {
   "cell_type": "code",
   "execution_count": null,
   "metadata": {},
   "outputs": [],
   "source": []
  }
 ],
 "metadata": {
  "interpreter": {
   "hash": "cc4ce4877ce7233c150199eef003a6329473df8e50563a5976537a83f335919c"
  },
  "kernelspec": {
   "display_name": "Python 3.8.8 ('base')",
   "language": "python",
   "name": "python3"
  },
  "language_info": {
   "codemirror_mode": {
    "name": "ipython",
    "version": 3
   },
   "file_extension": ".py",
   "mimetype": "text/x-python",
   "name": "python",
   "nbconvert_exporter": "python",
   "pygments_lexer": "ipython3",
   "version": "3.8.8"
  },
  "orig_nbformat": 4
 },
 "nbformat": 4,
 "nbformat_minor": 2
}
